{
 "cells": [
  {
   "cell_type": "markdown",
   "id": "edb5573c-c13e-4a15-86b6-d0c6c9561431",
   "metadata": {},
   "source": [
    "# Data Science Tools and Ecosystem"
   ]
  },
  {
   "cell_type": "markdown",
   "id": "77fc62f6-0cc6-45f5-8c83-8a2102506686",
   "metadata": {},
   "source": [
    "## IN this notebook, Data Science tools and Ecosystems are summorized"
   ]
  },
  {
   "cell_type": "markdown",
   "id": "a76751b7-4da5-4d0f-9694-8fa313914dcc",
   "metadata": {},
   "source": [
    "### Some of the popular languages that Data Scientists use are:\n",
    "1. Python\n",
    "2. R\n",
    "3. Julia"
   ]
  },
  {
   "cell_type": "markdown",
   "id": "3d44f9d9-e3f1-445d-8541-419e2147c532",
   "metadata": {},
   "source": [
    "### Some or the commonly used libraries by Data Scientists are:\n",
    "1. Pandas\n",
    "2. Numpy\n",
    "3. Matplotlib\n",
    "4. Tenserflow\n",
    "5. Keras"
   ]
  },
  {
   "cell_type": "markdown",
   "id": "fd335415-55c3-48a6-b358-41e26a64b349",
   "metadata": {},
   "source": [
    "| Data Science Tools |\n",
    "|--------|\n",
    "|Jupyter|\n",
    "|Github|\n",
    "|SQL|"
   ]
  },
  {
   "cell_type": "markdown",
   "id": "011c393c-dd02-4916-a6a1-508bedbb031b",
   "metadata": {},
   "source": [
    "### Below are several examples of evaluating arithmetic expression to multiply and then add integers "
   ]
  },
  {
   "cell_type": "code",
   "execution_count": 1,
   "id": "bb564ba1-c2b8-4746-99a4-0bac369ba68a",
   "metadata": {},
   "outputs": [
    {
     "data": {
      "text/plain": [
       "17"
      ]
     },
     "execution_count": 1,
     "metadata": {},
     "output_type": "execute_result"
    }
   ],
   "source": [
    "(3 * 4) + 5\n",
    "# This a simple arithmetic expression to mutiply then add integers"
   ]
  },
  {
   "cell_type": "code",
   "execution_count": 2,
   "id": "06d1e892-687f-4f14-b3c5-4749908c03bc",
   "metadata": {},
   "outputs": [
    {
     "data": {
      "text/plain": [
       "3.3333333333333335"
      ]
     },
     "execution_count": 2,
     "metadata": {},
     "output_type": "execute_result"
    }
   ],
   "source": [
    "200 / 60\n",
    "# This will convert 200 minutes in hours by deviding by 60"
   ]
  },
  {
   "cell_type": "markdown",
   "id": "93f9b143-c979-4ded-957b-80c5f9f4f7ad",
   "metadata": {},
   "source": [
    "### Objectives\n",
    "- List of the popular Data Scientists languages\n",
    "- List of the commonly used Data Science libraries\n"
   ]
  },
  {
   "cell_type": "markdown",
   "id": "e2678253-9c05-46ce-a59b-b102fd2c8f9f",
   "metadata": {},
   "source": [
    "## Author \n",
    "Shohruh"
   ]
  },
  {
   "cell_type": "code",
   "execution_count": null,
   "id": "e080c706-f08f-4691-b66e-e6aed2206d01",
   "metadata": {},
   "outputs": [],
   "source": []
  }
 ],
 "metadata": {
  "kernelspec": {
   "display_name": "Python 3 (ipykernel)",
   "language": "python",
   "name": "python3"
  },
  "language_info": {
   "codemirror_mode": {
    "name": "ipython",
    "version": 3
   },
   "file_extension": ".py",
   "mimetype": "text/x-python",
   "name": "python",
   "nbconvert_exporter": "python",
   "pygments_lexer": "ipython3",
   "version": "3.11.7"
  }
 },
 "nbformat": 4,
 "nbformat_minor": 5
}
